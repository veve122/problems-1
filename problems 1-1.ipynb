{
 "cells": [
  {
   "cell_type": "code",
   "execution_count": 3,
   "id": "81016a3c",
   "metadata": {},
   "outputs": [
    {
     "name": "stdout",
     "output_type": "stream",
     "text": [
      "<class 'int'>\n",
      "<class 'str'>\n",
      "<class 'float'>\n"
     ]
    }
   ],
   "source": [
    "##problem3\n",
    "x = 1 \n",
    "y = 2.2\n",
    "z = \"hello\"\n",
    "print(type(x))\n",
    "print(type(z))\n",
    "print(type(y))\n"
   ]
  },
  {
   "cell_type": "code",
   "execution_count": 6,
   "id": "46b5f478",
   "metadata": {},
   "outputs": [
    {
     "name": "stdout",
     "output_type": "stream",
     "text": [
      "21\n"
     ]
    }
   ],
   "source": [
    "##problem4\n",
    "def product_of_sums (a, b, c, d):\n",
    "    return (a + b) * (c + d)\n",
    "print(product_of_sums(1, 2, 3, 4))\n",
    "\n"
   ]
  },
  {
   "cell_type": "code",
   "execution_count": 4,
   "id": "1822ae3b",
   "metadata": {},
   "outputs": [
    {
     "name": "stdout",
     "output_type": "stream",
     "text": [
      "28\n"
     ]
    }
   ],
   "source": [
    "##problem5\n",
    "x = 3\n",
    "y = 10\n",
    "z = (x*y)-2\n",
    "print(z)\n"
   ]
  },
  {
   "cell_type": "code",
   "execution_count": null,
   "id": "92e9db88",
   "metadata": {},
   "outputs": [
    {
     "name": "stdout",
     "output_type": "stream",
     "text": [
      "Name: John Doe \n",
      "DOB: 01/01/1990 \n",
      "Email: john.doe@gmail.com\n"
     ]
    }
   ],
   "source": [
    "##problem 6 Create separate variables for various types of personal data (name, DOB, email etc.). Then print this data.\n",
    "name = \"John Doe\"\n",
    "birth_date = \"01/01/1990\"\n",
    "email = \"john.doe@gmail.com\"\n",
    "print(\"Name:\", name, \"\\nDOB:\", birth_date, \"\\nEmail:\", email)\n"
   ]
  },
  {
   "cell_type": "code",
   "execution_count": 12,
   "id": "5f5c2abd",
   "metadata": {},
   "outputs": [
    {
     "name": "stdout",
     "output_type": "stream",
     "text": [
      "Gross Pay: $ 800.0\n",
      "Net Pay after 23% tax: $ 616.0\n"
     ]
    }
   ],
   "source": [
    "##problem 7 Create variables with hourly wage and hours worked. Print gross pay and pay after 23% tax.\n",
    "hourly_wage = 20.0  # Example hourly wage\n",
    "hours_worked = 40  # Example hours worked in a week\n",
    "gross_pay = hourly_wage * hours_worked\n",
    "tax_rate = 0.23 \n",
    "net_pay = gross_pay * (1 - tax_rate)\n",
    "print(\"Gross Pay: $\", gross_pay)    \n",
    "print(\"Net Pay after 23% tax: $\", net_pay)\n"
   ]
  },
  {
   "cell_type": "code",
   "execution_count": 14,
   "id": "6b718322",
   "metadata": {},
   "outputs": [
    {
     "name": "stdout",
     "output_type": "stream",
     "text": [
      "Amount saved after 2 years: $3491.78\n"
     ]
    }
   ],
   "source": [
    "# probelm 8 Assume a savings account with an initial $1000. The owner adds $100 every month at 2.1% interest rate (calculated monthly). Print the amount saved after 2 years.\n",
    "initial_amount = 1000\n",
    "monthly_deposit = 100\n",
    "annual_interest_rate = 0.021\n",
    "months = 24\n",
    "monthly_rate = annual_interest_rate / 12\n",
    "\n",
    "final_amount = initial_amount * (1 + monthly_rate) ** months + \\\n",
    "               monthly_deposit * (((1 + monthly_rate) ** months - 1) / monthly_rate)\n",
    "\n",
    "print(f\"Amount saved after 2 years: ${final_amount:.2f}\")\n"
   ]
  },
  {
   "cell_type": "code",
   "execution_count": 15,
   "id": "68a966f2",
   "metadata": {},
   "outputs": [
    {
     "name": "stdout",
     "output_type": "stream",
     "text": [
      "Hours: 1\n",
      "Minutes: 2\n"
     ]
    }
   ],
   "source": [
    "## problem 9 \n",
    "\n",
    "seconds = 3749\n",
    "\n",
    "# Prevod na hodiny\n",
    "hours = 0\n",
    "while seconds >= 3600:  # 1 hodina = 3600 sekúnd\n",
    "    seconds -= 3600\n",
    "    hours += 1\n",
    "\n",
    "# Prevod na minúty\n",
    "minutes = 0\n",
    "while seconds >= 60:  # 1 minúta = 60 sekúnd\n",
    "    seconds -= 60\n",
    "    minutes += 1\n",
    "\n",
    "print(\"Hours:\", hours)\n",
    "print(\"Minutes:\", minutes)"
   ]
  },
  {
   "cell_type": "code",
   "execution_count": 16,
   "id": "a388f144",
   "metadata": {},
   "outputs": [
    {
     "name": "stdout",
     "output_type": "stream",
     "text": [
      "The 175th day of 2025 fell on: Tuesday\n"
     ]
    }
   ],
   "source": [
    "## problem 10 \n",
    "\n",
    "days = [\"Wednesday\", \"Thursday\", \"Friday\", \"Saturday\", \"Sunday\", \"Monday\", \"Tuesday\"]\n",
    "\n",
    "first_day_index = 0  # 01/01/2025 je Wednesday, index 0\n",
    "n = 175              # chceme 175. deň\n",
    "\n",
    "# Počet dní od 1. januára\n",
    "offset = n - 1       # 174\n",
    "\n",
    "# Výpočet indexu dňa v týždni\n",
    "day_index = (first_day_index + offset) % 7\n",
    "\n",
    "print(\"The 175th day of 2025 fell on:\", days[day_index])"
   ]
  }
 ],
 "metadata": {
  "kernelspec": {
   "display_name": "base",
   "language": "python",
   "name": "python3"
  },
  "language_info": {
   "codemirror_mode": {
    "name": "ipython",
    "version": 3
   },
   "file_extension": ".py",
   "mimetype": "text/x-python",
   "name": "python",
   "nbconvert_exporter": "python",
   "pygments_lexer": "ipython3",
   "version": "3.12.7"
  }
 },
 "nbformat": 4,
 "nbformat_minor": 5
}
